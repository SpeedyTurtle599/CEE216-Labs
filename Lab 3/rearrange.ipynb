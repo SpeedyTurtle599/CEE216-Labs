{
 "cells": [
  {
   "cell_type": "code",
   "execution_count": 13,
   "metadata": {
    "collapsed": true,
    "ExecuteTime": {
     "end_time": "2023-05-10T21:56:00.590741Z",
     "start_time": "2023-05-10T21:56:00.583750Z"
    }
   },
   "outputs": [],
   "source": [
    "import sympy as sym\n",
    "\n",
    "P, w, b, L, tau, sigma = sym.symbols(r'P, w, b, L, \\tau, \\sigma')\n",
    "\n",
    "V = w * L + P\n",
    "M = (w * L ** 2) / 2 + P * L"
   ]
  },
  {
   "cell_type": "code",
   "execution_count": 15,
   "outputs": [
    {
     "name": "stdout",
     "output_type": "stream",
     "text": [
      "ConditionSet(L, Eq(-L*P - L*w/4 + 19200*(L*w/640 + P/640)**1.5, 0), Complexes)\n"
     ]
    }
   ],
   "source": [
    "sigmaEq = sym.Eq(sigma, M * (4 * b) / (1/12 * b * (8*b)**3))\n",
    "tauEq = sym.Eq(tau, 3/2 * V / 8*b**2)\n",
    "results = sym.solve([sigmaEq, tauEq], (L, b))\n",
    "eq = sym.Eq(19200*((w*L+P)/640)**(3/2),((w*L)/2**2) + P*L)\n",
    "a = sym.solveset(19200*((w*L+P)/640)**(3/2) - ((w*L)/2**2) - P*L, L)\n",
    "print(a)"
   ],
   "metadata": {
    "collapsed": false,
    "ExecuteTime": {
     "end_time": "2023-05-10T21:57:11.425206Z",
     "start_time": "2023-05-10T21:57:11.165173Z"
    }
   }
  }
 ],
 "metadata": {
  "kernelspec": {
   "display_name": "Python 3",
   "language": "python",
   "name": "python3"
  },
  "language_info": {
   "codemirror_mode": {
    "name": "ipython",
    "version": 2
   },
   "file_extension": ".py",
   "mimetype": "text/x-python",
   "name": "python",
   "nbconvert_exporter": "python",
   "pygments_lexer": "ipython2",
   "version": "2.7.6"
  }
 },
 "nbformat": 4,
 "nbformat_minor": 0
}
